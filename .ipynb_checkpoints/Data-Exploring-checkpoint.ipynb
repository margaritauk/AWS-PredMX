{
 "cells": [
  {
   "cell_type": "code",
   "execution_count": 11,
   "metadata": {},
   "outputs": [
    {
     "name": "stdout",
     "output_type": "stream",
     "text": [
      "--2019-07-31 19:52:41--  https://ti.arc.nasa.gov/m/project/prognostic-repository/CMAPSSData.zip\n",
      "Resolving ti.arc.nasa.gov (ti.arc.nasa.gov)... 128.102.105.66, 2001:4d0:6311:2227:14b6:372b:2078:2a94\n",
      "Connecting to ti.arc.nasa.gov (ti.arc.nasa.gov)|128.102.105.66|:443... connected.\n",
      "HTTP request sent, awaiting response... 200 OK\n",
      "Length: 12425978 (12M) [application/zip]\n",
      "Saving to: ‘CMAPSSData.zip’\n",
      "\n",
      "CMAPSSData.zip      100%[===================>]  11.85M  4.66MB/s    in 2.5s    \n",
      "\n",
      "2019-07-31 19:52:44 (4.66 MB/s) - ‘CMAPSSData.zip’ saved [12425978/12425978]\n",
      "\n"
     ]
    }
   ],
   "source": [
    "#import data\n",
    "!cd Data\n",
    "!wget https://ti.arc.nasa.gov/m/project/prognostic-repository/CMAPSSData.zip"
   ]
  },
  {
   "cell_type": "code",
   "execution_count": 13,
   "metadata": {},
   "outputs": [],
   "source": [
    "#unzip the files\n",
    "import zipfile\n",
    "with zipfile.ZipFile('CMAPSSData.zip', 'r') as zip_ref:\n",
    "    zip_ref.extractall()"
   ]
  },
  {
   "cell_type": "code",
   "execution_count": 34,
   "metadata": {},
   "outputs": [],
   "source": [
    "import os\n",
    "import pandas as pd\n",
    "rul = []\n",
    "test = []\n",
    "train = []\n",
    "\n",
    "for file in os.listdir():\n",
    "    if 'RUL' in file:\n",
    "        rul.append(pd.read_csv(file, sep = ' ', header=None))\n",
    "    elif 'test' in file:\n",
    "        test.append(pd.read_csv(file, sep = ' ', header=None))\n",
    "    elif 'train'in file:\n",
    "        train.append(pd.read_csv(file, sep = ' ', header=None))"
   ]
  },
  {
   "cell_type": "code",
   "execution_count": 37,
   "metadata": {},
   "outputs": [],
   "source": [
    "rul_df = pd.concat(rul)\n",
    "test_df = pd.concat(test)\n",
    "train_df = pd.concat(train)"
   ]
  },
  {
   "cell_type": "code",
   "execution_count": 47,
   "metadata": {},
   "outputs": [
    {
     "data": {
      "text/html": [
       "<div>\n",
       "<style scoped>\n",
       "    .dataframe tbody tr th:only-of-type {\n",
       "        vertical-align: middle;\n",
       "    }\n",
       "\n",
       "    .dataframe tbody tr th {\n",
       "        vertical-align: top;\n",
       "    }\n",
       "\n",
       "    .dataframe thead th {\n",
       "        text-align: right;\n",
       "    }\n",
       "</style>\n",
       "<table border=\"1\" class=\"dataframe\">\n",
       "  <thead>\n",
       "    <tr style=\"text-align: right;\">\n",
       "      <th></th>\n",
       "      <th>0</th>\n",
       "      <th>1</th>\n",
       "      <th>2</th>\n",
       "      <th>3</th>\n",
       "      <th>4</th>\n",
       "      <th>5</th>\n",
       "      <th>6</th>\n",
       "      <th>7</th>\n",
       "      <th>8</th>\n",
       "      <th>9</th>\n",
       "      <th>...</th>\n",
       "      <th>18</th>\n",
       "      <th>19</th>\n",
       "      <th>20</th>\n",
       "      <th>21</th>\n",
       "      <th>22</th>\n",
       "      <th>23</th>\n",
       "      <th>24</th>\n",
       "      <th>25</th>\n",
       "      <th>26</th>\n",
       "      <th>27</th>\n",
       "    </tr>\n",
       "  </thead>\n",
       "  <tbody>\n",
       "    <tr>\n",
       "      <th>0</th>\n",
       "      <td>1</td>\n",
       "      <td>1</td>\n",
       "      <td>9.9987</td>\n",
       "      <td>0.2502</td>\n",
       "      <td>100.0</td>\n",
       "      <td>489.05</td>\n",
       "      <td>605.03</td>\n",
       "      <td>1497.17</td>\n",
       "      <td>1304.99</td>\n",
       "      <td>10.52</td>\n",
       "      <td>...</td>\n",
       "      <td>8114.10</td>\n",
       "      <td>8.6476</td>\n",
       "      <td>0.03</td>\n",
       "      <td>369</td>\n",
       "      <td>2319</td>\n",
       "      <td>100.00</td>\n",
       "      <td>28.42</td>\n",
       "      <td>17.1551</td>\n",
       "      <td>NaN</td>\n",
       "      <td>NaN</td>\n",
       "    </tr>\n",
       "    <tr>\n",
       "      <th>1</th>\n",
       "      <td>1</td>\n",
       "      <td>2</td>\n",
       "      <td>20.0026</td>\n",
       "      <td>0.7000</td>\n",
       "      <td>100.0</td>\n",
       "      <td>491.19</td>\n",
       "      <td>607.82</td>\n",
       "      <td>1481.20</td>\n",
       "      <td>1246.11</td>\n",
       "      <td>9.35</td>\n",
       "      <td>...</td>\n",
       "      <td>8053.06</td>\n",
       "      <td>9.2405</td>\n",
       "      <td>0.02</td>\n",
       "      <td>364</td>\n",
       "      <td>2324</td>\n",
       "      <td>100.00</td>\n",
       "      <td>24.29</td>\n",
       "      <td>14.8039</td>\n",
       "      <td>NaN</td>\n",
       "      <td>NaN</td>\n",
       "    </tr>\n",
       "    <tr>\n",
       "      <th>2</th>\n",
       "      <td>1</td>\n",
       "      <td>3</td>\n",
       "      <td>35.0045</td>\n",
       "      <td>0.8400</td>\n",
       "      <td>100.0</td>\n",
       "      <td>449.44</td>\n",
       "      <td>556.00</td>\n",
       "      <td>1359.08</td>\n",
       "      <td>1128.36</td>\n",
       "      <td>5.48</td>\n",
       "      <td>...</td>\n",
       "      <td>8053.04</td>\n",
       "      <td>9.3472</td>\n",
       "      <td>0.02</td>\n",
       "      <td>333</td>\n",
       "      <td>2223</td>\n",
       "      <td>100.00</td>\n",
       "      <td>14.98</td>\n",
       "      <td>8.9125</td>\n",
       "      <td>NaN</td>\n",
       "      <td>NaN</td>\n",
       "    </tr>\n",
       "    <tr>\n",
       "      <th>3</th>\n",
       "      <td>1</td>\n",
       "      <td>4</td>\n",
       "      <td>42.0066</td>\n",
       "      <td>0.8410</td>\n",
       "      <td>100.0</td>\n",
       "      <td>445.00</td>\n",
       "      <td>550.17</td>\n",
       "      <td>1349.69</td>\n",
       "      <td>1127.89</td>\n",
       "      <td>3.91</td>\n",
       "      <td>...</td>\n",
       "      <td>8066.90</td>\n",
       "      <td>9.3961</td>\n",
       "      <td>0.02</td>\n",
       "      <td>332</td>\n",
       "      <td>2212</td>\n",
       "      <td>100.00</td>\n",
       "      <td>10.35</td>\n",
       "      <td>6.4181</td>\n",
       "      <td>NaN</td>\n",
       "      <td>NaN</td>\n",
       "    </tr>\n",
       "    <tr>\n",
       "      <th>4</th>\n",
       "      <td>1</td>\n",
       "      <td>5</td>\n",
       "      <td>24.9985</td>\n",
       "      <td>0.6213</td>\n",
       "      <td>60.0</td>\n",
       "      <td>462.54</td>\n",
       "      <td>536.72</td>\n",
       "      <td>1253.18</td>\n",
       "      <td>1050.69</td>\n",
       "      <td>7.05</td>\n",
       "      <td>...</td>\n",
       "      <td>7865.66</td>\n",
       "      <td>10.8682</td>\n",
       "      <td>0.02</td>\n",
       "      <td>305</td>\n",
       "      <td>1915</td>\n",
       "      <td>84.93</td>\n",
       "      <td>14.31</td>\n",
       "      <td>8.5740</td>\n",
       "      <td>NaN</td>\n",
       "      <td>NaN</td>\n",
       "    </tr>\n",
       "  </tbody>\n",
       "</table>\n",
       "<p>5 rows × 28 columns</p>\n",
       "</div>"
      ],
      "text/plain": [
       "   0   1        2       3      4       5       6        7        8      9   \\\n",
       "0   1   1   9.9987  0.2502  100.0  489.05  605.03  1497.17  1304.99  10.52   \n",
       "1   1   2  20.0026  0.7000  100.0  491.19  607.82  1481.20  1246.11   9.35   \n",
       "2   1   3  35.0045  0.8400  100.0  449.44  556.00  1359.08  1128.36   5.48   \n",
       "3   1   4  42.0066  0.8410  100.0  445.00  550.17  1349.69  1127.89   3.91   \n",
       "4   1   5  24.9985  0.6213   60.0  462.54  536.72  1253.18  1050.69   7.05   \n",
       "\n",
       "   ...       18       19    20   21    22      23     24       25  26  27  \n",
       "0  ...  8114.10   8.6476  0.03  369  2319  100.00  28.42  17.1551 NaN NaN  \n",
       "1  ...  8053.06   9.2405  0.02  364  2324  100.00  24.29  14.8039 NaN NaN  \n",
       "2  ...  8053.04   9.3472  0.02  333  2223  100.00  14.98   8.9125 NaN NaN  \n",
       "3  ...  8066.90   9.3961  0.02  332  2212  100.00  10.35   6.4181 NaN NaN  \n",
       "4  ...  7865.66  10.8682  0.02  305  1915   84.93  14.31   8.5740 NaN NaN  \n",
       "\n",
       "[5 rows x 28 columns]"
      ]
     },
     "execution_count": 47,
     "metadata": {},
     "output_type": "execute_result"
    }
   ],
   "source": [
    "test_df.head()"
   ]
  },
  {
   "cell_type": "code",
   "execution_count": 42,
   "metadata": {},
   "outputs": [
    {
     "data": {
      "text/plain": [
       "(707, 2)"
      ]
     },
     "execution_count": 42,
     "metadata": {},
     "output_type": "execute_result"
    }
   ],
   "source": [
    "rul_df.shape"
   ]
  },
  {
   "cell_type": "code",
   "execution_count": 43,
   "metadata": {},
   "outputs": [
    {
     "data": {
      "text/plain": [
       "(104897, 28)"
      ]
     },
     "execution_count": 43,
     "metadata": {},
     "output_type": "execute_result"
    }
   ],
   "source": [
    "test_df.shape"
   ]
  },
  {
   "cell_type": "code",
   "execution_count": 44,
   "metadata": {},
   "outputs": [
    {
     "data": {
      "text/plain": [
       "(160359, 28)"
      ]
     },
     "execution_count": 44,
     "metadata": {},
     "output_type": "execute_result"
    }
   ],
   "source": [
    "train_df.shape"
   ]
  },
  {
   "cell_type": "code",
   "execution_count": 48,
   "metadata": {},
   "outputs": [],
   "source": [
    "test_group = test_df.groupby"
   ]
  },
  {
   "cell_type": "code",
   "execution_count": null,
   "metadata": {},
   "outputs": [],
   "source": []
  }
 ],
 "metadata": {
  "kernelspec": {
   "display_name": "conda_python3",
   "language": "python",
   "name": "conda_python3"
  },
  "language_info": {
   "codemirror_mode": {
    "name": "ipython",
    "version": 3
   },
   "file_extension": ".py",
   "mimetype": "text/x-python",
   "name": "python",
   "nbconvert_exporter": "python",
   "pygments_lexer": "ipython3",
   "version": "3.6.5"
  }
 },
 "nbformat": 4,
 "nbformat_minor": 2
}
