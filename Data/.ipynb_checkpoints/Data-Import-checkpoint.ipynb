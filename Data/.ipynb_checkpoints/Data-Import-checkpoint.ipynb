{
 "cells": [
  {
   "cell_type": "code",
   "execution_count": 1,
   "metadata": {},
   "outputs": [
    {
     "name": "stdout",
     "output_type": "stream",
     "text": [
      "--2019-07-31 21:19:37--  https://ti.arc.nasa.gov/m/project/prognostic-repository/CMAPSSData.zip\n",
      "Resolving ti.arc.nasa.gov (ti.arc.nasa.gov)... 128.102.105.66, 2001:4d0:6311:2227:14b6:372b:2078:2a94\n",
      "Connecting to ti.arc.nasa.gov (ti.arc.nasa.gov)|128.102.105.66|:443... connected.\n",
      "HTTP request sent, awaiting response... 200 OK\n",
      "Length: 12425978 (12M) [application/zip]\n",
      "Saving to: ‘CMAPSSData.zip’\n",
      "\n",
      "CMAPSSData.zip      100%[===================>]  11.85M   715KB/s    in 14s     \n",
      "\n",
      "2019-07-31 21:19:52 (847 KB/s) - ‘CMAPSSData.zip’ saved [12425978/12425978]\n",
      "\n"
     ]
    }
   ],
   "source": [
    "#download data\n",
    "!wget https://ti.arc.nasa.gov/m/project/prognostic-repository/CMAPSSData.zip"
   ]
  },
  {
   "cell_type": "code",
   "execution_count": 2,
   "metadata": {},
   "outputs": [],
   "source": [
    "#unzip the files\n",
    "import zipfile\n",
    "with zipfile.ZipFile('CMAPSSData.zip', 'r') as zip_ref:\n",
    "    zip_ref.extractall()"
   ]
  },
  {
   "cell_type": "code",
   "execution_count": 3,
   "metadata": {},
   "outputs": [],
   "source": [
    "#import data from files\n",
    "import os\n",
    "import pandas as pd\n",
    "rul = []\n",
    "test = []\n",
    "train = []\n",
    "\n",
    "for file in os.listdir():\n",
    "    if 'RUL' in file:\n",
    "        rul.append(pd.read_csv(file, sep = ' ', header=None))\n",
    "    elif 'test' in file:\n",
    "        test.append(pd.read_csv(file, sep = ' ', header=None))\n",
    "    elif 'train'in file:\n",
    "        train.append(pd.read_csv(file, sep = ' ', header=None))"
   ]
  },
  {
   "cell_type": "code",
   "execution_count": 4,
   "metadata": {},
   "outputs": [],
   "source": [
    "#combine data\n",
    "rul_df = pd.concat(rul)\n",
    "test_df = pd.concat(test)\n",
    "train_df = pd.concat(train)"
   ]
  },
  {
   "cell_type": "code",
   "execution_count": 5,
   "metadata": {},
   "outputs": [
    {
     "data": {
      "text/plain": [
       "(707, 2)"
      ]
     },
     "execution_count": 5,
     "metadata": {},
     "output_type": "execute_result"
    }
   ],
   "source": [
    "rul_df.shape"
   ]
  },
  {
   "cell_type": "code",
   "execution_count": 6,
   "metadata": {},
   "outputs": [
    {
     "data": {
      "text/plain": [
       "(104897, 28)"
      ]
     },
     "execution_count": 6,
     "metadata": {},
     "output_type": "execute_result"
    }
   ],
   "source": [
    "test_df.shape"
   ]
  },
  {
   "cell_type": "code",
   "execution_count": 7,
   "metadata": {},
   "outputs": [
    {
     "data": {
      "text/plain": [
       "(160359, 28)"
      ]
     },
     "execution_count": 7,
     "metadata": {},
     "output_type": "execute_result"
    }
   ],
   "source": [
    "train_df.shape"
   ]
  },
  {
   "cell_type": "code",
   "execution_count": null,
   "metadata": {},
   "outputs": [],
   "source": []
  }
 ],
 "metadata": {
  "kernelspec": {
   "display_name": "conda_python3",
   "language": "python",
   "name": "conda_python3"
  },
  "language_info": {
   "codemirror_mode": {
    "name": "ipython",
    "version": 3
   },
   "file_extension": ".py",
   "mimetype": "text/x-python",
   "name": "python",
   "nbconvert_exporter": "python",
   "pygments_lexer": "ipython3",
   "version": "3.6.5"
  }
 },
 "nbformat": 4,
 "nbformat_minor": 2
}
